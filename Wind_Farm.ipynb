{
 "cells": [
  {
   "cell_type": "code",
   "execution_count": 2,
   "id": "7b31a089-7d53-404b-8617-7b6855cf2daa",
   "metadata": {
    "tags": []
   },
   "outputs": [],
   "source": [
    "import os,sys\n",
    "Dig_path = r\"C:\\Program Files\\DIgSILENT\\PowerFactory 2024 SP5A\\Python\\3.11\"\n",
    "sys.path.append(Dig_path)\n",
    "os.environ['PATH']+= ';' +Dig_path"
   ]
  },
  {
   "cell_type": "code",
   "execution_count": 3,
   "id": "a37708e7-8a68-469d-a32c-ec6badefdc17",
   "metadata": {
    "tags": []
   },
   "outputs": [],
   "source": [
    "import powerfactory as pf\n",
    "import matplotlib.pyplot as plt"
   ]
  },
  {
   "cell_type": "code",
   "execution_count": 4,
   "id": "a641b5f5-751e-449e-8c4b-0b9140e6d94d",
   "metadata": {
    "tags": []
   },
   "outputs": [
    {
     "name": "stdout",
     "output_type": "stream",
     "text": [
      "Project 'Wind Farm' activated successfully.\n"
     ]
    }
   ],
   "source": [
    "\n",
    "# Connect to PowerFactory\n",
    "app = pf.GetApplication()\n",
    "if not app:\n",
    "    print(\"PowerFactory application not found. Ensure it is running.\")\n",
    "    exit()\n",
    "\n",
    "# Activate the project\n",
    "project_name = 'Wind Farm'\n",
    "app.ActivateProject(project_name)\n",
    "\n",
    "# Confirm the project activation\n",
    "active_project = app.GetActiveProject()\n",
    "if active_project and active_project.loc_name == project_name:\n",
    "    print(f\"Project '{project_name}' activated successfully.\")\n",
    "else:\n",
    "    print(f\"Failed to activate project '{project_name}'. Verify the name and availability.\")\n",
    "    exit()"
   ]
  },
  {
   "cell_type": "code",
   "execution_count": 5,
   "id": "3181a79f-07cf-4e76-9099-f4b9ffdf6d44",
   "metadata": {
    "tags": []
   },
   "outputs": [],
   "source": [
    "study_case_fldr = app.GetProjectFolder('study')"
   ]
  },
  {
   "cell_type": "code",
   "execution_count": 6,
   "id": "5c75322b-3403-4a17-9cd9-7762bdca43d8",
   "metadata": {
    "tags": []
   },
   "outputs": [],
   "source": [
    "study_case = study_case_fldr.GetContents('*.Intcase',0)"
   ]
  },
  {
   "cell_type": "code",
   "execution_count": 7,
   "id": "e2db12f4-a5e0-4f2c-8767-a06f3175ce23",
   "metadata": {
    "tags": []
   },
   "outputs": [
    {
     "name": "stdout",
     "output_type": "stream",
     "text": [
      "3.1 Power Curve\n",
      "4.1 P-Q Diagram\n",
      "4.2 P-Q Diagram overload limited\n",
      "4.3 V-Q Diagram\n",
      "4.4 V-Q Diagram overload limited\n",
      "2.1 IEC 60909 Short-Circuit & Protection\n",
      "2.2 Complete Short-Circuit & Protection\n",
      "2.3 Complete Short-Circuit & Prot. (G74)\n",
      "3.2 Basic Energy Analysis\n",
      "3.3 Probabilistic Energy Analysis\n",
      "5. Harmonics\n",
      "6.1 UVRT Simulation 0% Un\n",
      "6.2 UVRT Simulation 30% Un\n",
      "6.3 OVRT Simulation 120% Un\n",
      "6.4 OVRT Simulation 130% Un\n",
      "7. Park Controller Simulation\n",
      "1. Base Case\n"
     ]
    }
   ],
   "source": [
    "for case in study_case:\n",
    "    print(case.loc_name)"
   ]
  },
  {
   "cell_type": "code",
   "execution_count": 12,
   "id": "6f610228-82a3-489e-bf93-0bebeb61cd00",
   "metadata": {
    "tags": []
   },
   "outputs": [
    {
     "name": "stdout",
     "output_type": "stream",
     "text": [
      "Study case '1. Base Case' activated successfully.\n"
     ]
    }
   ],
   "source": [
    "# Activate the 'Base Case' study case\n",
    "study_case_name = '1. Base Case'\n",
    "study_case = study_case_fldr.GetContents(f'{study_case_name}*.IntCase', 0)\n",
    "\n",
    "if study_case:\n",
    "    study_case = study_case[0]  # Access the first matching study case\n",
    "    study_case.Activate()\n",
    "    print(f\"Study case '{study_case_name}' activated successfully.\")\n",
    "else:\n",
    "    print(f\"Failed to activate study case '{study_case_name}'.\")\n",
    "    exit()\n"
   ]
  },
  {
   "cell_type": "code",
   "execution_count": 13,
   "id": "a48f9936-a9ac-4ca8-bf81-3338bcc562ef",
   "metadata": {
    "tags": []
   },
   "outputs": [
    {
     "name": "stdout",
     "output_type": "stream",
     "text": [
      "Load flow executed successfully.\n"
     ]
    }
   ],
   "source": [
    "# Perform the load flow\n",
    "ldf = app.GetFromStudyCase('ComLdf')  # Get the load flow object from the active study case\n",
    "\n",
    "if ldf:\n",
    "    error_code = ldf.Execute()  # Execute the load flow\n",
    "    if error_code == 0:\n",
    "        print(\"Load flow executed successfully.\")\n",
    "    else:\n",
    "        print(f\"Load flow failed with error code: {error_code}\")\n",
    "else:\n",
    "    print(\"Load flow object not found in the study case.\")\n"
   ]
  },
  {
   "cell_type": "code",
   "execution_count": 14,
   "id": "d9bb8223-1ea5-4687-b1fa-f6c0361383a0",
   "metadata": {
    "tags": []
   },
   "outputs": [
    {
     "name": "stdout",
     "output_type": "stream",
     "text": [
      "Load Flow Results (Bus Voltages):\n",
      "Bus: 1, Voltage: 1.000 p.u.\n",
      "Bus: T1.1, Voltage: 1.000 p.u.\n",
      "Bus: T1.2, Voltage: 1.000 p.u.\n",
      "Bus: 2, Voltage: 1.000 p.u.\n",
      "Bus: T2.1, Voltage: 1.000 p.u.\n",
      "Bus: T2.2, Voltage: 1.000 p.u.\n",
      "Bus: 3, Voltage: 1.000 p.u.\n",
      "Bus: T3.1, Voltage: 1.000 p.u.\n",
      "Bus: T3.2, Voltage: 1.000 p.u.\n",
      "Bus: 4, Voltage: 1.000 p.u.\n",
      "Bus: T4.1, Voltage: 1.000 p.u.\n",
      "Bus: T4.2, Voltage: 1.000 p.u.\n",
      "Bus: Busbar PoC, Voltage: 1.000 p.u.\n",
      "Bus: 1, Voltage: 1.000 p.u.\n",
      "Bus: T1.1, Voltage: 1.000 p.u.\n",
      "Bus: T1.2, Voltage: 1.000 p.u.\n",
      "Bus: 2, Voltage: 1.000 p.u.\n",
      "Bus: T2.1, Voltage: 1.000 p.u.\n",
      "Bus: T2.2, Voltage: 1.000 p.u.\n",
      "Bus: 3, Voltage: 1.000 p.u.\n",
      "Bus: T3.1, Voltage: 1.000 p.u.\n",
      "Bus: T3.2, Voltage: 1.000 p.u.\n",
      "Bus: 4, Voltage: 1.000 p.u.\n",
      "Bus: T4.1, Voltage: 1.000 p.u.\n",
      "Bus: T4.2, Voltage: 1.000 p.u.\n",
      "Bus: Busbar, Voltage: 1.000 p.u.\n",
      "Bus: LV 1.1, Voltage: 0.971 p.u.\n",
      "Bus: LV 1.2, Voltage: 0.972 p.u.\n",
      "Bus: LV 2.1, Voltage: 0.981 p.u.\n",
      "Bus: LV 2.2, Voltage: 0.985 p.u.\n",
      "Bus: LV 2.3, Voltage: 0.987 p.u.\n",
      "Bus: LV 2.4, Voltage: 0.989 p.u.\n",
      "Bus: LV Cap, Voltage: 0.952 p.u.\n",
      "Bus: MV 1.1, Voltage: 1.005 p.u.\n",
      "Bus: MV 1.2, Voltage: 1.006 p.u.\n",
      "Bus: MV 2.1, Voltage: 1.015 p.u.\n",
      "Bus: MV 2.2, Voltage: 1.019 p.u.\n",
      "Bus: MV 2.3, Voltage: 1.021 p.u.\n",
      "Bus: MV 2.4, Voltage: 1.023 p.u.\n"
     ]
    }
   ],
   "source": [
    "# Retrieve all buses\n",
    "buses = app.GetCalcRelevantObjects('*.ElmTerm')  # ElmTerm represents buses\n",
    "\n",
    "if buses:\n",
    "    print(\"Load Flow Results (Bus Voltages):\")\n",
    "    for bus in buses:\n",
    "        voltage = bus.GetAttribute('m:u')  # Voltage magnitude in p.u.\n",
    "        print(f\"Bus: {bus.loc_name}, Voltage: {voltage:.3f} p.u.\")\n",
    "else:\n",
    "    print(\"No buses found in the network.\")\n"
   ]
  },
  {
   "cell_type": "code",
   "execution_count": 15,
   "id": "4525eef2-d9f0-43dd-aafc-d2f92ad2c983",
   "metadata": {
    "tags": []
   },
   "outputs": [
    {
     "data": {
      "image/png": "[encoded data removed]",
      "text/plain": [
       "<Figure size 1000x600 with 1 Axes>"
      ]
     },
     "metadata": {},
     "output_type": "display_data"
    }
   ],
   "source": [
    "# Retrieve and store bus voltages\n",
    "buses = app.GetCalcRelevantObjects('*.ElmTerm')  # Get all buses\n",
    "bus_names = []\n",
    "bus_voltages = []\n",
    "\n",
    "if buses:\n",
    "    for bus in buses:\n",
    "        bus_names.append(bus.loc_name)  # Store bus name\n",
    "        bus_voltages.append(bus.GetAttribute('m:u'))  # Store voltage in p.u.\n",
    "else:\n",
    "    print(\"No buses found in the network.\")\n",
    "    exit()\n",
    "\n",
    "# Plot the bus voltages\n",
    "plt.figure(figsize=(10, 6))\n",
    "plt.bar(bus_names, bus_voltages, color='skyblue', edgecolor='black')\n",
    "plt.axhline(1.0, color='red', linestyle='--', label='Nominal Voltage (1.0 p.u.)')\n",
    "plt.axhline(1.05, color='green', linestyle='--', label='Upper Limit (1.05 p.u.)')\n",
    "plt.axhline(0.95, color='orange', linestyle='--', label='Lower Limit (0.95 p.u.)')\n",
    "\n",
    "# Customize the plot\n",
    "plt.title('Bus Voltages (Load Flow Results)', fontsize=14)\n",
    "plt.xlabel('Bus Names', fontsize=12)\n",
    "plt.ylabel('Voltage (p.u.)', fontsize=12)\n",
    "plt.xticks(rotation=45, ha='right', fontsize=10)\n",
    "plt.ylim(0.9, 1.1)  # Set y-axis range to focus on typical voltage ranges\n",
    "plt.grid(axis='y', linestyle='--', linewidth=0.7)\n",
    "plt.legend()\n",
    "plt.tight_layout()\n",
    "\n",
    "# Show the plot\n",
    "plt.show()\n"
   ]
  },
  {
   "cell_type": "code",
   "execution_count": 16,
   "id": "04d54f64-e41b-4a1d-91be-21083ee5cd17",
   "metadata": {
    "tags": []
   },
   "outputs": [
    {
     "name": "stdout",
     "output_type": "stream",
     "text": [
      "Study case '2.1 IEC 60909 Short-Circuit & Protection' activated successfully.\n"
     ]
    }
   ],
   "source": [
    "# Activate the short-circuit study case\n",
    "study_case_name = '2.1 IEC 60909 Short-Circuit & Protection'\n",
    "study_case = study_case_fldr.GetContents(f'{study_case_name}*.IntCase', 0)\n",
    "\n",
    "if study_case:\n",
    "    study_case = study_case[0]\n",
    "    study_case.Activate()\n",
    "    print(f\"Study case '{study_case_name}' activated successfully.\")\n",
    "else:\n",
    "    print(f\"Failed to activate study case '{study_case_name}'.\")\n",
    "    exit()\n"
   ]
  },
  {
   "cell_type": "code",
   "execution_count": 17,
   "id": "0806b9a5-0842-413f-b48a-6b42c3aa4400",
   "metadata": {
    "tags": []
   },
   "outputs": [
    {
     "name": "stdout",
     "output_type": "stream",
     "text": [
      "Short-circuit analysis executed successfully.\n"
     ]
    }
   ],
   "source": [
    "# Perform the short-circuit analysis\n",
    "short_circuit = app.GetFromStudyCase('ComShc')  # Retrieve the short-circuit object\n",
    "if short_circuit:\n",
    "    error_code = short_circuit.Execute()  # Execute the short-circuit study\n",
    "    if error_code == 0:\n",
    "        print(\"Short-circuit analysis executed successfully.\")\n",
    "    else:\n",
    "        print(f\"Short-circuit analysis failed with error code: {error_code}\")\n",
    "else:\n",
    "    print(\"Short-circuit calculation object not found.\")\n"
   ]
  },
  {
   "cell_type": "code",
   "execution_count": 20,
   "id": "501ef2c4-480c-4df8-9ef9-67c50fd4938b",
   "metadata": {
    "tags": []
   },
   "outputs": [
    {
     "name": "stdout",
     "output_type": "stream",
     "text": [
      "Short-Circuit Results (via cubicles):\n",
      "Cubicle: Cub_1, Ikss: 0.000 kA, Ik: 0.000 kA, Ip: 0.000 kA\n",
      "Cubicle: Cubicle_S0.0.0, Ikss: 0.000 kA, Ik: 0.000 kA, Ip: 0.000 kA\n",
      "Cubicle: Cubicle_S0.0.0, Ikss: 0.000 kA, Ik: 0.000 kA, Ip: 0.000 kA\n",
      "Cubicle: Cubicle_S0.0.1, Ikss: 0.000 kA, Ik: 0.000 kA, Ip: 0.000 kA\n",
      "Cubicle: Cubicle_S0.0.1, Ikss: 0.000 kA, Ik: 0.000 kA, Ip: 0.000 kA\n",
      "Cubicle: Cubicle_S0.0.2, Ikss: 0.000 kA, Ik: 0.000 kA, Ip: 0.000 kA\n",
      "Cubicle: Cub_1, Ikss: 0.000 kA, Ik: 0.000 kA, Ip: 0.000 kA\n",
      "Cubicle: Cubicle_S0.0.0, Ikss: 0.000 kA, Ik: 0.000 kA, Ip: 0.000 kA\n",
      "Cubicle: Cubicle_S0.0.0, Ikss: 0.000 kA, Ik: 0.000 kA, Ip: 0.000 kA\n",
      "Cubicle: Cubicle_S0.0.1, Ikss: 0.000 kA, Ik: 0.000 kA, Ip: 0.000 kA\n",
      "Cubicle: Cubicle_S0.0.1, Ikss: 0.000 kA, Ik: 0.000 kA, Ip: 0.000 kA\n",
      "Cubicle: Cubicle_S0.0.2, Ikss: 0.000 kA, Ik: 0.000 kA, Ip: 0.000 kA\n",
      "Cubicle: Cubicle_S0.0.0, Ikss: 0.000 kA, Ik: 0.000 kA, Ip: 0.000 kA\n",
      "Cubicle: Cubicle_S0.0.0, Ikss: 0.000 kA, Ik: 0.000 kA, Ip: 0.000 kA\n",
      "Cubicle: Cubicle_S0.0.1, Ikss: 0.000 kA, Ik: 0.000 kA, Ip: 0.000 kA\n",
      "Cubicle: Cubicle_S0.0.1, Ikss: 0.000 kA, Ik: 0.000 kA, Ip: 0.000 kA\n",
      "Cubicle: Cubicle_S0.0.2, Ikss: 0.000 kA, Ik: 0.000 kA, Ip: 0.000 kA\n",
      "Cubicle: Cubicle_S0.0.0, Ikss: 0.000 kA, Ik: 0.000 kA, Ip: 0.000 kA\n",
      "Cubicle: Cubicle_S0.0.0, Ikss: 0.000 kA, Ik: 0.000 kA, Ip: 0.000 kA\n",
      "Cubicle: Cubicle_S0.0.1, Ikss: 0.000 kA, Ik: 0.000 kA, Ip: 0.000 kA\n",
      "Cubicle: Cubicle_S0.0.1, Ikss: 0.000 kA, Ik: 0.000 kA, Ip: 0.000 kA\n",
      "Cubicle: Cubicle_S0.0.2, Ikss: 0.000 kA, Ik: 0.000 kA, Ip: 0.000 kA\n",
      "Cubicle: Cubicle_S0.1.2, Ikss: 0.000 kA, Ik: 0.000 kA, Ip: 0.000 kA\n",
      "Cubicle: Cubicle_S0.2.2, Ikss: 0.000 kA, Ik: 0.000 kA, Ip: 0.000 kA\n",
      "Cubicle: Cubicle_S0.3.2, Ikss: 0.000 kA, Ik: 0.000 kA, Ip: 0.000 kA\n",
      "Cubicle: Cubicle_S0.4.2, Ikss: 0.000 kA, Ik: 0.000 kA, Ip: 0.000 kA\n",
      "Cubicle: Cub_1, Ikss: 0.000 kA, Ik: 0.000 kA, Ip: 0.000 kA\n",
      "Cubicle: Cubicle_S0.0.0, Ikss: 0.000 kA, Ik: 0.000 kA, Ip: 0.000 kA\n",
      "Cubicle: Cubicle_S0.0.0, Ikss: 0.000 kA, Ik: 0.000 kA, Ip: 0.000 kA\n",
      "Cubicle: Cubicle_S0.0.1, Ikss: 0.000 kA, Ik: 0.000 kA, Ip: 0.000 kA\n",
      "Cubicle: Cubicle_S0.0.1, Ikss: 0.000 kA, Ik: 0.000 kA, Ip: 0.000 kA\n",
      "Cubicle: Cubicle_S0.0.2, Ikss: 0.000 kA, Ik: 0.000 kA, Ip: 0.000 kA\n",
      "Cubicle: Cub_1, Ikss: 0.000 kA, Ik: 0.000 kA, Ip: 0.000 kA\n",
      "Cubicle: Cubicle_S0.0.0, Ikss: 0.000 kA, Ik: 0.000 kA, Ip: 0.000 kA\n",
      "Cubicle: Cubicle_S0.0.0, Ikss: 0.000 kA, Ik: 0.000 kA, Ip: 0.000 kA\n",
      "Cubicle: Cubicle_S0.0.1, Ikss: 0.000 kA, Ik: 0.000 kA, Ip: 0.000 kA\n",
      "Cubicle: Cubicle_S0.0.1, Ikss: 0.000 kA, Ik: 0.000 kA, Ip: 0.000 kA\n",
      "Cubicle: Cubicle_S0.0.2, Ikss: 0.000 kA, Ik: 0.000 kA, Ip: 0.000 kA\n",
      "Cubicle: Cub_1, Ikss: 0.000 kA, Ik: 0.000 kA, Ip: 0.000 kA\n",
      "Cubicle: Cubicle_S0.0.0, Ikss: 0.000 kA, Ik: 0.000 kA, Ip: 0.000 kA\n",
      "Cubicle: Cubicle_S0.0.0, Ikss: 0.000 kA, Ik: 0.000 kA, Ip: 0.000 kA\n",
      "Cubicle: Cubicle_S0.0.1, Ikss: 0.000 kA, Ik: 0.000 kA, Ip: 0.000 kA\n",
      "Cubicle: Cubicle_S0.0.1, Ikss: 0.000 kA, Ik: 0.000 kA, Ip: 0.000 kA\n",
      "Cubicle: Cubicle_S0.0.2, Ikss: 0.000 kA, Ik: 0.000 kA, Ip: 0.000 kA\n",
      "Cubicle: Cub_1, Ikss: 0.000 kA, Ik: 0.000 kA, Ip: 0.000 kA\n",
      "Cubicle: Cubicle_S0.0.0, Ikss: 0.000 kA, Ik: 0.000 kA, Ip: 0.000 kA\n",
      "Cubicle: Cubicle_S0.0.0, Ikss: 0.000 kA, Ik: 0.000 kA, Ip: 0.000 kA\n",
      "Cubicle: Cubicle_S0.0.1, Ikss: 0.000 kA, Ik: 0.000 kA, Ip: 0.000 kA\n",
      "Cubicle: Cubicle_S0.0.1, Ikss: 0.000 kA, Ik: 0.000 kA, Ip: 0.000 kA\n",
      "Cubicle: Cubicle_S0.0.2, Ikss: 0.000 kA, Ik: 0.000 kA, Ip: 0.000 kA\n",
      "Cubicle: Cubicle_S0.1.2, Ikss: 0.000 kA, Ik: 0.000 kA, Ip: 0.000 kA\n",
      "Cubicle: Cubicle_S0.2.2, Ikss: 0.000 kA, Ik: 0.000 kA, Ip: 0.000 kA\n",
      "Cubicle: Cubicle_S0.3.2, Ikss: 0.000 kA, Ik: 0.000 kA, Ip: 0.000 kA\n",
      "Cubicle: Cubicle_S0.4.2, Ikss: 0.000 kA, Ik: 0.000 kA, Ip: 0.000 kA\n",
      "Cubicle: Cub_1, Ikss: 0.000 kA, Ik: 0.000 kA, Ip: 0.000 kA\n",
      "Cubicle: Cub_2, Ikss: 0.000 kA, Ik: 0.000 kA, Ip: 0.000 kA\n",
      "Cubicle: Cub_1, Ikss: 0.000 kA, Ik: 0.000 kA, Ip: 0.000 kA\n",
      "Cubicle: Cub_2, Ikss: 0.000 kA, Ik: 0.000 kA, Ip: 0.000 kA\n",
      "Cubicle: Cub_1, Ikss: 0.000 kA, Ik: 0.000 kA, Ip: 0.000 kA\n",
      "Cubicle: Cub_2, Ikss: 0.000 kA, Ik: 0.000 kA, Ip: 0.000 kA\n",
      "Cubicle: Cub_1, Ikss: 0.000 kA, Ik: 0.000 kA, Ip: 0.000 kA\n",
      "Cubicle: Cub_2, Ikss: 0.000 kA, Ik: 0.000 kA, Ip: 0.000 kA\n",
      "Cubicle: Cub_1, Ikss: 0.000 kA, Ik: 0.000 kA, Ip: 0.000 kA\n",
      "Cubicle: Cub_2, Ikss: 0.000 kA, Ik: 0.000 kA, Ip: 0.000 kA\n",
      "Cubicle: Cub_1, Ikss: 0.000 kA, Ik: 0.000 kA, Ip: 0.000 kA\n",
      "Cubicle: Cub_2, Ikss: 0.000 kA, Ik: 0.000 kA, Ip: 0.000 kA\n",
      "Cubicle: Cub_1, Ikss: 0.000 kA, Ik: 0.000 kA, Ip: 0.000 kA\n",
      "Cubicle: Cub_2, Ikss: 0.000 kA, Ik: 0.000 kA, Ip: 0.000 kA\n",
      "Cubicle: Cub_1, Ikss: 0.000 kA, Ik: 0.000 kA, Ip: 0.000 kA\n",
      "Cubicle: Cub_2, Ikss: 0.000 kA, Ik: 0.000 kA, Ip: 0.000 kA\n",
      "Cubicle: Cub_3, Ikss: 0.000 kA, Ik: 0.000 kA, Ip: 0.000 kA\n",
      "Cubicle: Cub_1, Ikss: 0.000 kA, Ik: 0.000 kA, Ip: 0.000 kA\n",
      "Cubicle: Cub_2, Ikss: 0.000 kA, Ik: 0.000 kA, Ip: 0.000 kA\n",
      "Cubicle: Cub_1, Ikss: 0.000 kA, Ik: 0.000 kA, Ip: 0.000 kA\n",
      "Cubicle: Cub_2, Ikss: 0.000 kA, Ik: 0.000 kA, Ip: 0.000 kA\n",
      "Cubicle: Cub_3, Ikss: 0.000 kA, Ik: 0.000 kA, Ip: 0.000 kA\n",
      "Cubicle: Cub_1, Ikss: 0.000 kA, Ik: 0.000 kA, Ip: 0.000 kA\n",
      "Cubicle: Cub_2, Ikss: 0.000 kA, Ik: 0.000 kA, Ip: 0.000 kA\n",
      "Cubicle: Cub_3, Ikss: 0.000 kA, Ik: 0.000 kA, Ip: 0.000 kA\n",
      "Cubicle: Cub_1, Ikss: 0.000 kA, Ik: 0.000 kA, Ip: 0.000 kA\n",
      "Cubicle: Cub_2, Ikss: 0.000 kA, Ik: 0.000 kA, Ip: 0.000 kA\n",
      "Cubicle: Cub_3, Ikss: 0.000 kA, Ik: 0.000 kA, Ip: 0.000 kA\n",
      "Cubicle: Cub_1, Ikss: 5.142 kA, Ik: 5.142 kA, Ip: 8.024 kA\n",
      "Cubicle: Cub_2, Ikss: 5.142 kA, Ik: 5.142 kA, Ip: 8.024 kA\n"
     ]
    }
   ],
   "source": [
    "# Retrieve all cubicles connected to buses\n",
    "cubicles = app.GetCalcRelevantObjects('*.StaCubic')  # Cubicle objects\n",
    "\n",
    "if cubicles:\n",
    "    print(\"Short-Circuit Results (via cubicles):\")\n",
    "    for cubicle in cubicles:\n",
    "        ikss = cubicle.GetAttribute('m:Ikss')  # Symmetrical short-circuit current (kA)\n",
    "        ip = cubicle.GetAttribute('m:Ip')      # Peak short-circuit current (kA)\n",
    "        ik = cubicle.GetAttribute('m:Ik')      # Initial short-circuit current (kA)\n",
    "        \n",
    "        if ikss is not None:\n",
    "            print(f\"Cubicle: {cubicle.loc_name}, Ikss: {ikss:.3f} kA, Ik: {ik:.3f} kA, Ip: {ip:.3f} kA\")\n",
    "else:\n",
    "    print(\"No cubicles with short-circuit results found.\")\n",
    "\n"
   ]
  },
  {
   "cell_type": "code",
   "execution_count": 26,
   "id": "5e6e0f33-279e-4577-a260-cf448de4a6e8",
   "metadata": {
    "tags": []
   },
   "outputs": [
    {
     "name": "stdout",
     "output_type": "stream",
     "text": [
      "Study case '6.1 UVRT Simulation 0% Un' activated successfully.\n"
     ]
    }
   ],
   "source": [
    "# Activate the UVRT study case\n",
    "study_case_name = '6.1 UVRT Simulation 0% Un'\n",
    "study_case_fldr = app.GetProjectFolder('study')  # Access the study case folder\n",
    "study_case = study_case_fldr.GetContents(f'{study_case_name}*.IntCase', 0)\n",
    "\n",
    "if study_case:\n",
    "    study_case = study_case[0]\n",
    "    study_case.Activate()\n",
    "    print(f\"Study case '{study_case_name}' activated successfully.\")\n",
    "else:\n",
    "    print(f\"Failed to activate study case '{study_case_name}'.\")\n",
    "    exit()\n",
    "\n"
   ]
  },
  {
   "cell_type": "code",
   "execution_count": 28,
   "id": "f7e4aca4-f87c-45f0-9c02-7e2647b8e865",
   "metadata": {
    "tags": []
   },
   "outputs": [
    {
     "name": "stdout",
     "output_type": "stream",
     "text": [
      "Dynamic simulation executed successfully.\n"
     ]
    }
   ],
   "source": [
    "# Execute the dynamic simulation\n",
    "simulation = app.GetFromStudyCase('ComSim')  # Get the dynamic simulation object\n",
    "if simulation:\n",
    "    error_code = simulation.Execute()  # Run the simulation\n",
    "    if error_code == 0:\n",
    "        print(\"Dynamic simulation executed successfully.\")\n",
    "    else:\n",
    "        print(f\"Dynamic simulation failed with error code: {error_code}\")\n",
    "        exit()\n",
    "else:\n",
    "    print(\"Dynamic simulation object not found in the study case.\")\n",
    "    exit()\n",
    "\n",
    "\n"
   ]
  },
  {
   "cell_type": "code",
   "execution_count": 29,
   "id": "5c9b36df-f874-45e0-9836-f5a3a7ad10b3",
   "metadata": {
    "tags": []
   },
   "outputs": [
    {
     "name": "stdout",
     "output_type": "stream",
     "text": [
      "Voltage Results During UVRT:\n",
      "Bus: 1, Voltage: 1.000 p.u.\n",
      "Bus: T1.1, Voltage: 1.000 p.u.\n",
      "Bus: T1.2, Voltage: 1.000 p.u.\n",
      "Bus: 2, Voltage: 1.000 p.u.\n",
      "Bus: T2.1, Voltage: 1.000 p.u.\n",
      "Bus: T2.2, Voltage: 1.000 p.u.\n",
      "Bus: 3, Voltage: 0.000 p.u.\n",
      "Bus: T3.1, Voltage: 0.000 p.u.\n",
      "Bus: T3.2, Voltage: 1.000 p.u.\n",
      "Bus: 4, Voltage: 1.000 p.u.\n",
      "Bus: T4.1, Voltage: 1.000 p.u.\n",
      "Bus: T4.2, Voltage: 1.000 p.u.\n",
      "Bus: Busbar PoC, Voltage: 1.000 p.u.\n",
      "Bus: 1, Voltage: 1.000 p.u.\n",
      "Bus: T1.1, Voltage: 1.000 p.u.\n",
      "Bus: T1.2, Voltage: 1.000 p.u.\n",
      "Bus: 2, Voltage: 1.000 p.u.\n",
      "Bus: T2.1, Voltage: 1.000 p.u.\n",
      "Bus: T2.2, Voltage: 1.000 p.u.\n",
      "Bus: 3, Voltage: 1.000 p.u.\n",
      "Bus: T3.1, Voltage: 1.000 p.u.\n",
      "Bus: T3.2, Voltage: 1.000 p.u.\n",
      "Bus: 4, Voltage: 1.000 p.u.\n",
      "Bus: T4.1, Voltage: 1.000 p.u.\n",
      "Bus: T4.2, Voltage: 1.000 p.u.\n",
      "Bus: Busbar, Voltage: 1.000 p.u.\n",
      "Bus: LV 1.1, Voltage: 0.972 p.u.\n",
      "Bus: LV 1.2, Voltage: 0.974 p.u.\n",
      "Bus: LV 2.1, Voltage: 0.983 p.u.\n",
      "Bus: LV 2.2, Voltage: 0.988 p.u.\n",
      "Bus: LV 2.3, Voltage: 0.991 p.u.\n",
      "Bus: LV 2.4, Voltage: 0.993 p.u.\n",
      "Bus: LV Cap, Voltage: 0.952 p.u.\n",
      "Bus: MV 1.1, Voltage: 1.006 p.u.\n",
      "Bus: MV 1.2, Voltage: 1.007 p.u.\n",
      "Bus: MV 2.1, Voltage: 1.017 p.u.\n",
      "Bus: MV 2.2, Voltage: 1.022 p.u.\n",
      "Bus: MV 2.3, Voltage: 1.025 p.u.\n",
      "Bus: MV 2.4, Voltage: 1.027 p.u.\n"
     ]
    }
   ],
   "source": [
    "# Retrieve voltage results for all buses\n",
    "buses = app.GetCalcRelevantObjects('*.ElmTerm')  # Get all buses\n",
    "if buses:\n",
    "    print(\"Voltage Results During UVRT:\")\n",
    "    for bus in buses:\n",
    "        voltage = bus.GetAttribute('m:u')  # Voltage magnitude in p.u.\n",
    "        print(f\"Bus: {bus.loc_name}, Voltage: {voltage:.3f} p.u.\")\n",
    "else:\n",
    "    print(\"No buses found in the network.\")\n"
   ]
  },
  {
   "cell_type": "code",
   "execution_count": 31,
   "id": "defda203-3e62-46c5-9d0e-02c2eea2ad3e",
   "metadata": {
    "tags": []
   },
   "outputs": [
    {
     "name": "stdout",
     "output_type": "stream",
     "text": [
      "RMS simulation executed successfully.\n"
     ]
    }
   ],
   "source": [
    "# Execute RMS simulation\n",
    "simulation = app.GetFromStudyCase('ComSim')  # Get the simulation object\n",
    "if simulation:\n",
    "    simulation.SetAttribute('tstop', 1.0)  # Set the simulation stop time to 1 second\n",
    "    error_code = simulation.Execute()  # Execute the simulation\n",
    "    if error_code == 0:\n",
    "        print(\"RMS simulation executed successfully.\")\n",
    "    else:\n",
    "        print(f\"RMS simulation failed with error code: {error_code}\")\n",
    "        exit()\n",
    "else:\n",
    "    print(\"Simulation object not found.\")\n",
    "    exit()\n",
    "\n"
   ]
  },
  {
   "cell_type": "code",
   "execution_count": null,
   "id": "b7003e34-8a46-4035-a2b7-408c49bf8244",
   "metadata": {},
   "outputs": [],
   "source": []
  }
 ],
 "metadata": {
  "kernelspec": {
   "display_name": "Python 3 (ipykernel)",
   "language": "python",
   "name": "python3"
  },
  "language_info": {
   "codemirror_mode": {
    "name": "ipython",
    "version": 3
   },
   "file_extension": ".py",
   "mimetype": "text/x-python",
   "name": "python",
   "nbconvert_exporter": "python",
   "pygments_lexer": "ipython3",
   "version": "3.11.5"
  }
 },
 "nbformat": 4,
 "nbformat_minor": 5
}
